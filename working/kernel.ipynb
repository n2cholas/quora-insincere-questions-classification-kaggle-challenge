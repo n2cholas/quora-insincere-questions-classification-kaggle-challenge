{
 "cells": [
  {
   "cell_type": "code",
   "execution_count": 2,
   "metadata": {
    "_cell_guid": "b1076dfc-b9ad-4769-8c92-a6c4dae69d19",
    "_uuid": "8f2839f25d086af736a60e9eeb907d3b93b6e0e5"
   },
   "outputs": [
    {
     "name": "stderr",
     "output_type": "stream",
     "text": [
      "C:\\Anaconda\\lib\\site-packages\\h5py\\__init__.py:36: FutureWarning: Conversion of the second argument of issubdtype from `float` to `np.floating` is deprecated. In future, it will be treated as `np.float64 == np.dtype(float).type`.\n",
      "  from ._conv import register_converters as _register_converters\n",
      "Using TensorFlow backend.\n"
     ]
    },
    {
     "name": "stdout",
     "output_type": "stream",
     "text": [
      "['embeddings', 'embeddings.zip', 'sample_submission.csv', 'test.csv', 'train.csv']\n"
     ]
    }
   ],
   "source": [
    "# This Python 3 environment comes with many helpful analytics libraries installed\n",
    "# It is defined by the kaggle/python docker image: https://github.com/kaggle/docker-python\n",
    "# For example, here's several helpful packages to load in \n",
    "\n",
    "import numpy as np\n",
    "import pandas as pd\n",
    "import tensorflow as tf\n",
    "from tqdm import tqdm\n",
    "\n",
    "from keras.preprocessing.text import Tokenizer\n",
    "from keras.preprocessing.sequence import pad_sequences\n",
    "\n",
    "from sklearn.model_selection import train_test_split\n",
    "from sklearn import metrics\n",
    "\n",
    "import matplotlib.pyplot as plt\n",
    "tqdm.pandas()\n",
    "\n",
    "import pickle\n",
    "# Input data files are available in the \"../input/\" directory.\n",
    "# For example, running this (by clicking run or pressing Shift+Enter) will list the files in the input directory\n",
    "\n",
    "import os\n",
    "print(os.listdir(\"../input\"))\n",
    "# Any results you write to the current directory are saved as output."
   ]
  },
  {
   "cell_type": "code",
   "execution_count": 3,
   "metadata": {
    "_uuid": "6444828abec5a0e0183b06ac88ebb775773ddfaa"
   },
   "outputs": [
    {
     "name": "stdout",
     "output_type": "stream",
     "text": [
      "Default GPU Device: /device:GPU:0\n"
     ]
    }
   ],
   "source": [
    "if tf.test.gpu_device_name():\n",
    "    print('Default GPU Device: {}'.format(tf.test.gpu_device_name()))\n",
    "else:\n",
    "    print(\"Please install GPU version of TF\")"
   ]
  },
  {
   "cell_type": "markdown",
   "metadata": {
    "_cell_guid": "79c7e3d0-c299-4dcb-8224-4455121ee9b0",
    "_uuid": "d629ff2d2480ee46fbb7e2d37f6b5fab8052498a",
    "collapsed": true
   },
   "source": [
    "# Preprocessing\n",
    "Based on https://www.kaggle.com/christofhenkel/how-to-preprocessing-when-using-embeddings"
   ]
  },
  {
   "cell_type": "code",
   "execution_count": 4,
   "metadata": {
    "_uuid": "b9685ca6a5bb39ec0116653bc90a87e96f11ef2a"
   },
   "outputs": [
    {
     "name": "stdout",
     "output_type": "stream",
     "text": [
      "Train shape: (1306122, 3)\n",
      "Test shape:  (56370, 2)\n"
     ]
    }
   ],
   "source": [
    "train = pd.read_csv(\"../input/train.csv\")\n",
    "test = pd.read_csv(\"../input/test.csv\")\n",
    "print(f\"Train shape: {train.shape}\")\n",
    "print(f\"Test shape:  {test.shape}\")"
   ]
  },
  {
   "cell_type": "code",
   "execution_count": 27,
   "metadata": {
    "_uuid": "cb0955e5f96c53e628b6b12968d6f6c1ba638e97"
   },
   "outputs": [],
   "source": [
    "train, validation = train_test_split(train, test_size=0.08, random_state=20190101)\n",
    "\n",
    "embed_size = 300 #word vector sizes\n",
    "vocab_size = 95000 # words in vocabulary\n",
    "maxlen = 100 # max words to use per question\n",
    "\n",
    "## fill up the missing values\n",
    "train_X = train[\"question_text\"].fillna(\"_##_\").values\n",
    "val_X = validation[\"question_text\"].fillna(\"_##_\").values\n",
    "test_X = test[\"question_text\"].fillna(\"_##_\").values\n",
    "\n",
    "# Use TensorFlow tokenizer\n",
    "tokenizer = Tokenizer(num_words=vocab_size)\n",
    "tokenizer.fit_on_texts(list(train_X))\n",
    "train_X = tokenizer.texts_to_sequences(train_X)\n",
    "val_X = tokenizer.texts_to_sequences(val_X)\n",
    "test_X = tokenizer.texts_to_sequences(test_X)\n",
    "\n",
    "## Pad sentences\n",
    "train_X = pad_sequences(train_X, maxlen=maxlen)\n",
    "val_X = pad_sequences(val_X, maxlen=maxlen)\n",
    "test_X = pad_sequences(test_X, maxlen=maxlen)\n",
    "\n",
    "## Get the response\n",
    "train_y = train['target'].values\n",
    "val_y = validation['target'].values"
   ]
  },
  {
   "cell_type": "markdown",
   "metadata": {
    "_uuid": "24e8fa32d29e53571f65e23c33cdcd7ebaa811ae"
   },
   "source": [
    "setting up embeddings"
   ]
  },
  {
   "cell_type": "code",
   "execution_count": 6,
   "metadata": {
    "_uuid": "a06dd5009c9a92e1751a1e77b6d394607b1867a6"
   },
   "outputs": [],
   "source": [
    "EMBEDDING_FILE = '../input/embeddings/glove.840B.300d/glove.840B.300d.txt' \n",
    "def get_coefs(word,*arr): return word, np.asarray(arr, dtype='float32') \n",
    "embeddings_index = dict(get_coefs(*o.split(\" \")) for o in open(EMBEDDING_FILE, encoding=\"utf8\"))"
   ]
  },
  {
   "cell_type": "code",
   "execution_count": 7,
   "metadata": {
    "_uuid": "44fd5c1d7f78d58425a2905e5951263bd18390f4"
   },
   "outputs": [],
   "source": [
    "all_embs = np.stack(embeddings_index.values())\n",
    "emb_mean,emb_std = all_embs.mean(), all_embs.std()\n",
    "embed_size = all_embs.shape[1]"
   ]
  },
  {
   "cell_type": "code",
   "execution_count": 7,
   "metadata": {
    "_uuid": "e600ad624600ee2e1f48d3c1ebde7517170aaf9c"
   },
   "outputs": [],
   "source": [
    "word_index = tokenizer.word_index\n",
    "nb_words = min(vocab_size, len(word_index))\n",
    "embedding_matrix = np.random.normal(emb_mean, emb_std, (nb_words, embed_size))\n",
    "for word, i in word_index.items():\n",
    "    if i >= vocab_size: continue\n",
    "    embedding_vector = embeddings_index.get(word)\n",
    "    if embedding_vector is not None: embedding_matrix[i] = embedding_vector"
   ]
  },
  {
   "cell_type": "code",
   "execution_count": 8,
   "metadata": {
    "_uuid": "b61c2782f2b65fa9befe69e23f7e9a1bce13c20b"
   },
   "outputs": [],
   "source": [
    "with open('embedding_matrix.pickle', 'wb') as handle:\n",
    "    pickle.dump(embedding_matrix, handle, protocol=pickle.HIGHEST_PROTOCOL)"
   ]
  },
  {
   "cell_type": "code",
   "execution_count": 8,
   "metadata": {
    "_uuid": "695a41ba9193efc71417e7633ce9e9d6cc3477fc"
   },
   "outputs": [],
   "source": [
    "with open('embedding_matrix.pickle', 'rb') as handle:\n",
    "     embedding_matrix = pickle.load(handle)"
   ]
  },
  {
   "cell_type": "markdown",
   "metadata": {},
   "source": [
    "# EDA"
   ]
  },
  {
   "cell_type": "code",
   "execution_count": 37,
   "metadata": {},
   "outputs": [
    {
     "data": {
      "text/plain": [
       "<matplotlib.axes._subplots.AxesSubplot at 0x23c1c8d4668>"
      ]
     },
     "execution_count": 37,
     "metadata": {},
     "output_type": "execute_result"
    },
    {
     "data": {
      "image/png": "[encoded data removed]",
      "text/plain": [
       "<Figure size 432x288 with 1 Axes>"
      ]
     },
     "metadata": {},
     "output_type": "display_data"
    }
   ],
   "source": [
    "train['question_text'].map(lambda x: len(x.split(' '))).hist()"
   ]
  },
  {
   "cell_type": "markdown",
   "metadata": {
    "_uuid": "0c807ceb4279ddcef2930c95a732f94928c33ae1"
   },
   "source": [
    "\n",
    "\n",
    "\n",
    "# Building\n",
    "based on https://www.kaggle.com/shujian/different-embeddings-with-attention-fork-fork/notebook"
   ]
  },
  {
   "cell_type": "code",
   "execution_count": 9,
   "metadata": {
    "_uuid": "e5f211b06805b1cfbcd3da110450b1debf6bfee6"
   },
   "outputs": [],
   "source": [
    "hidden_layer_size = 100\n",
    "BATCH_SIZE = 64\n",
    "\n",
    "# this just makes sure that all our following operations will be placed in the right graph.\n",
    "tf.reset_default_graph()\n",
    "\n",
    "# should be batchsize x question length x vocab_size\n",
    "# using None instead of batch size allows us to use variable batch sizes\n",
    "X = tf.placeholder(tf.int32, [None, maxlen], name='X')\n",
    "# 1d vector with size = None because we want to predict one val for each q, but want variable batch sizes\n",
    "Y = tf.placeholder(tf.float32, [None], name='Y')\n",
    "batch_size = tf.placeholder(tf.int64)\n",
    "\n",
    "dataset = tf.data.Dataset.from_tensor_slices((X, Y))\n",
    "dataset = dataset.shuffle(buffer_size=1000).batch(batch_size).repeat()\n",
    "iterator = dataset.make_initializable_iterator()\n",
    "questions, labels = iterator.get_next()\n",
    "\n",
    "embeddings = tf.get_variable(name=\"embeddings\", shape=embedding_matrix.shape,\n",
    "                             initializer=tf.constant_initializer(np.array(embedding_matrix)), \n",
    "                             trainable=False)\n",
    "embed = tf.nn.embedding_lookup(embeddings, questions)\n",
    "\n",
    "'''\n",
    "gru_cell_1 = tf.contrib.rnn.GRUCell(hidden_layer_size)\n",
    "gru_cell_2 = tf.contrib.rnn.GRUCell(hidden_layer_size)\n",
    "\n",
    "#state tuple=true  let's us access part of the cell state later\n",
    "multi_lstm_cells = tf.contrib.rnn.MultiRNNCell(cells=[gru_cell_1, gru_cell_2] , state_is_tuple=True) \n",
    "\n",
    "# define the operation that runs the LSTM, across time, on the data\n",
    "_, final_state = tf.nn.dynamic_rnn(multi_lstm_cells, embed, dtype=tf.float32)\n",
    "\n",
    "#FLAT = tf.layers.flatten(final_state[-1])\n",
    "last_layer = tf.layers.dense(final_state[-1], 1)\n",
    "classification = tf.nn.sigmoid(last_layer)\n",
    "classification = tf.squeeze(classification, [1])\n",
    "'''\n",
    "\n",
    "#'''\n",
    "lstm_cell_1 = tf.contrib.rnn.LSTMCell(hidden_layer_size)\n",
    "\n",
    "# define the operation that runs the LSTM, across time, on the data\n",
    "_, final_state = tf.nn.dynamic_rnn(lstm_cell_1, embed, dtype=tf.float32)\n",
    "\n",
    "#classification = linear(final_state[-1][-1], 1, name=\"output\")\n",
    "FLAT = tf.layers.flatten(final_state.h)\n",
    "last_layer = tf.layers.dense(FLAT, 1)\n",
    "classification = tf.nn.sigmoid(last_layer)\n",
    "classification = tf.squeeze(classification, [1])\n",
    "#'''"
   ]
  },
  {
   "cell_type": "code",
   "execution_count": 10,
   "metadata": {
    "_uuid": "85c408559debe74847f9820c605ffa85dbc47083"
   },
   "outputs": [],
   "source": [
    "# define cross entropy loss function\n",
    "loss = tf.nn.sigmoid_cross_entropy_with_logits(logits=tf.squeeze(last_layer), labels=labels)\n",
    "loss = tf.reduce_mean(loss)\n",
    "\n",
    "# define our optimizer to minimize the loss\n",
    "optimizer = tf.train.AdamOptimizer().minimize(loss)"
   ]
  },
  {
   "cell_type": "code",
   "execution_count": 11,
   "metadata": {
    "_uuid": "4bdcce2a0778cbb7ee105ee20c2c9c0d3b3968bd"
   },
   "outputs": [],
   "source": [
    "# to get actual results like 'positive' or 'negative' , \n",
    "# we round the prediction probability to 0 or 1.\n",
    "prediction = tf.to_float(tf.greater_equal(classification, 0.5))\n",
    "\n",
    "with tf.name_scope('metrics'):\n",
    "    F1, f1_update = tf.contrib.metrics.f1_score(labels=labels, predictions=classification, name='my_metric')"
   ]
  },
  {
   "cell_type": "code",
   "execution_count": 12,
   "metadata": {},
   "outputs": [],
   "source": [
    "running_vars = tf.get_collection(tf.GraphKeys.LOCAL_VARIABLES, scope=\"my_metric\")\n",
    "reset_op = tf.variables_initializer(var_list=running_vars)"
   ]
  },
  {
   "cell_type": "code",
   "execution_count": 14,
   "metadata": {
    "_uuid": "9942110307254cecef3d5c36fe72e924f022a1c9"
   },
   "outputs": [],
   "source": [
    "seed = 3\n",
    "\n",
    "saver = tf.train.Saver()\n",
    "# Start the session to compute the tensorflow graph\n",
    "\n",
    "sess = tf.Session()\n",
    "# Run the initialization\n",
    "sess.run(tf.global_variables_initializer())\n",
    "sess.run(tf.local_variables_initializer())\n",
    "\n",
    "costs, f1 = [], []"
   ]
  },
  {
   "cell_type": "code",
   "execution_count": 23,
   "metadata": {
    "_uuid": "46e86d664b34c4aa5afa041e6bc2e82d63fee66d",
    "scrolled": false
   },
   "outputs": [
    {
     "name": "stdout",
     "output_type": "stream",
     "text": [
      "Epoch 51 cost: 0.003108343898469911\n",
      "Epoch 51 f1: 0.7424188852310181\n",
      "Epoch 52 cost: 0.002289675641489336\n",
      "Epoch 52 f1: 0.7470362186431885\n",
      "Epoch 53 cost: 0.0037500818236176595\n",
      "Epoch 53 f1: 0.7513944506645203\n",
      "Epoch 54 cost: 0.002202735322923898\n",
      "Epoch 54 f1: 0.7556847929954529\n",
      "Epoch 55 cost: 0.003935710475385863\n",
      "Epoch 55 f1: 0.7597525119781494\n",
      "Epoch 56 cost: 0.0017356867771684962\n",
      "Epoch 56 f1: 0.7637895941734314\n",
      "Epoch 57 cost: 0.000530991074679492\n",
      "Epoch 57 f1: 0.7677692770957947\n",
      "Epoch 58 cost: 0.004121379527620144\n",
      "Epoch 58 f1: 0.7714137434959412\n",
      "Epoch 59 cost: 0.0026837825747661518\n",
      "Epoch 59 f1: 0.7750465273857117\n",
      "Epoch 60 cost: 0.0018989632838769255\n",
      "Epoch 60 f1: 0.7785618901252747\n",
      "Epoch 61 cost: 0.001303809736321225\n",
      "Epoch 61 f1: 0.7820006608963013\n",
      "Epoch 62 cost: 0.0029877021533832246\n",
      "Epoch 62 f1: 0.7852473855018616\n",
      "Epoch 63 cost: 0.002230185223870738\n",
      "Epoch 63 f1: 0.7884467244148254\n",
      "Epoch 64 cost: 0.0015623301729542926\n",
      "Epoch 64 f1: 0.7915903925895691\n",
      "Epoch 65 cost: 0.0018296178478539964\n",
      "Epoch 65 f1: 0.7946158051490784\n",
      "Epoch 66 cost: 0.0021543906012447857\n",
      "Epoch 66 f1: 0.7975599765777588\n",
      "Epoch 67 cost: 0.0018795106041721475\n",
      "Epoch 67 f1: 0.8003942370414734\n",
      "Epoch 68 cost: 0.0022574737606290947\n",
      "Epoch 68 f1: 0.8031825423240662\n",
      "Epoch 69 cost: 0.0008606159396574994\n",
      "Epoch 69 f1: 0.8059148788452148\n",
      "Epoch 70 cost: 0.0019974570282245627\n",
      "Epoch 70 f1: 0.808545708656311\n",
      "Epoch 71 cost: 0.0014846617611829758\n",
      "Epoch 71 f1: 0.8111197352409363\n",
      "Epoch 72 cost: 0.0009524150121487049\n",
      "Epoch 72 f1: 0.8136606216430664\n",
      "Epoch 73 cost: 0.002229585659916141\n",
      "Epoch 73 f1: 0.8160817623138428\n",
      "Epoch 74 cost: 0.0018727660427104236\n",
      "Epoch 74 f1: 0.818453848361969\n",
      "Epoch 75 cost: 0.0009061301236311923\n",
      "Epoch 75 f1: 0.8208152651786804\n",
      "Epoch 76 cost: 0.0017326076977809235\n",
      "Epoch 76 f1: 0.8230682015419006\n",
      "Epoch 77 cost: 0.0020661482321635287\n",
      "Epoch 77 f1: 0.8252690434455872\n",
      "Epoch 78 cost: 0.0013210538939953695\n",
      "Epoch 78 f1: 0.8274187445640564\n",
      "Epoch 79 cost: 0.0011084352347355054\n",
      "Epoch 79 f1: 0.8295444846153259\n",
      "Epoch 80 cost: 0.0021411786543448505\n",
      "Epoch 80 f1: 0.8315637111663818\n",
      "Epoch 81 cost: 0.0015858697190615839\n",
      "Epoch 81 f1: 0.833572268486023\n",
      "Epoch 82 cost: 0.0011167928257946583\n",
      "Epoch 82 f1: 0.8355347514152527\n",
      "Epoch 83 cost: 0.0024167924437088215\n",
      "Epoch 83 f1: 0.8373938202857971\n",
      "Epoch 84 cost: 0.0007437039895047419\n",
      "Epoch 84 f1: 0.8392853140830994\n",
      "Epoch 85 cost: 0.002431203780333196\n",
      "Epoch 85 f1: 0.8410654664039612\n",
      "Epoch 86 cost: 0.0008876952686129831\n",
      "Epoch 86 f1: 0.8428742289543152\n",
      "Epoch 87 cost: 0.0008696335731973742\n",
      "Epoch 87 f1: 0.844632625579834\n",
      "Epoch 88 cost: 0.0025292858195719125\n",
      "Epoch 88 f1: 0.8463082313537598\n",
      "Epoch 89 cost: 0.0010715015887191334\n",
      "Epoch 89 f1: 0.8479771018028259\n",
      "Epoch 90 cost: 0.0015310841482382423\n",
      "Epoch 90 f1: 0.8496161699295044\n",
      "Epoch 91 cost: 0.001607154756832656\n",
      "Epoch 91 f1: 0.8512009978294373\n",
      "Epoch 92 cost: 0.0010906213306747356\n",
      "Epoch 92 f1: 0.8527694344520569\n",
      "Epoch 93 cost: 0.0009722496828051547\n",
      "Epoch 93 f1: 0.8543152213096619\n",
      "Epoch 94 cost: 0.0020606177662359022\n",
      "Epoch 94 f1: 0.855794370174408\n",
      "Epoch 95 cost: 0.0009402220772729742\n",
      "Epoch 95 f1: 0.857275664806366\n",
      "Epoch 96 cost: 0.0009779090773664283\n",
      "Epoch 96 f1: 0.8587201833724976\n",
      "Epoch 97 cost: 0.0020872125019492207\n",
      "Epoch 97 f1: 0.8601248264312744\n",
      "Epoch 98 cost: 0.0008402781162319434\n",
      "Epoch 98 f1: 0.8615179061889648\n",
      "Epoch 99 cost: 0.0012977068434819193\n",
      "Epoch 99 f1: 0.8628867268562317\n",
      "Epoch 100 cost: 0.0019444807411798473\n",
      "Epoch 100 f1: 0.8641958236694336\n",
      "Epoch 101 cost: 0.00044709887898002754\n",
      "Epoch 101 f1: 0.8655225038528442\n",
      "Epoch 102 cost: 6.615891456508554e-05\n",
      "Epoch 102 f1: 0.8668293952941895\n",
      "Epoch 103 cost: 2.2847819011695875e-05\n",
      "Epoch 103 f1: 0.8681147694587708\n",
      "Epoch 104 cost: 1.0287534094685633e-05\n",
      "Epoch 104 f1: 0.8693746328353882\n",
      "Epoch 105 cost: 4.882874232476913e-06\n",
      "Epoch 105 f1: 0.8706051707267761\n",
      "Epoch 106 cost: 2.136891133546952e-06\n",
      "Epoch 106 f1: 0.8718256950378418\n",
      "Epoch 107 cost: 8.561300278424038e-07\n",
      "Epoch 107 f1: 0.8730106353759766\n",
      "Epoch 108 cost: 3.341671586748197e-07\n",
      "Epoch 108 f1: 0.8741855621337891\n",
      "Epoch 109 cost: 1.2863927022545888e-07\n",
      "Epoch 109 f1: 0.8753253817558289\n",
      "Epoch 110 cost: 5.094692676517986e-08\n",
      "Epoch 110 f1: 0.8764532208442688\n",
      "Epoch 111 cost: 2.1020237068717148e-08\n",
      "Epoch 111 f1: 0.8775537014007568\n",
      "Epoch 112 cost: 9.70219872593415e-09\n",
      "Epoch 112 f1: 0.8786423802375793\n",
      "Epoch 113 cost: 5.182497532880309e-09\n",
      "Epoch 113 f1: 0.8797103762626648\n",
      "Epoch 114 cost: 3.216695664983349e-09\n",
      "Epoch 114 f1: 0.8807549476623535\n",
      "Epoch 115 cost: 2.3016209594643396e-09\n",
      "Epoch 115 f1: 0.8817903995513916\n",
      "Epoch 116 cost: 1.7021466468051182e-09\n",
      "Epoch 116 f1: 0.8827980160713196\n",
      "Epoch 117 cost: 1.3677177675413153e-09\n",
      "Epoch 117 f1: 0.8837990164756775\n",
      "Epoch 118 cost: 1.1441885613703878e-09\n",
      "Epoch 118 f1: 0.8847744464874268\n",
      "Epoch 119 cost: 9.926493329363443e-10\n",
      "Epoch 119 f1: 0.8857377171516418\n",
      "Epoch 120 cost: 8.608482733094673e-10\n",
      "Epoch 120 f1: 0.8866827487945557\n",
      "Epoch 121 cost: 7.639409841755154e-10\n",
      "Epoch 121 f1: 0.8876156210899353\n",
      "Epoch 122 cost: 6.825905124009506e-10\n",
      "Epoch 122 f1: 0.8885301947593689\n",
      "Epoch 123 cost: 6.195563735973884e-10\n",
      "Epoch 123 f1: 0.8894270658493042\n",
      "Epoch 124 cost: 5.829277772717567e-10\n",
      "Epoch 124 f1: 0.8903178572654724\n",
      "Epoch 125 cost: 5.276272674102391e-10\n",
      "Epoch 125 f1: 0.8911866545677185\n",
      "Epoch 126 cost: 4.832519427921237e-10\n",
      "Epoch 126 f1: 0.8920475840568542\n",
      "Epoch 127 cost: 4.542975875458209e-10\n",
      "Epoch 127 f1: 0.8928912281990051\n",
      "Epoch 128 cost: 4.3331250183006436e-10\n",
      "Epoch 128 f1: 0.8937253952026367\n",
      "Epoch 129 cost: 4.008958401796181e-10\n",
      "Epoch 129 f1: 0.8945428729057312\n",
      "Epoch 130 cost: 3.8015770980503435e-10\n",
      "Epoch 130 f1: 0.8953533172607422\n",
      "Epoch 131 cost: 3.558424908136701e-10\n",
      "Epoch 131 f1: 0.896144449710846\n",
      "Epoch 132 cost: 3.382199822302566e-10\n",
      "Epoch 132 f1: 0.8969241976737976\n",
      "Epoch 133 cost: 3.2889308888439216e-10\n",
      "Epoch 133 f1: 0.8976975083351135\n",
      "Epoch 134 cost: 3.083620521125432e-10\n",
      "Epoch 134 f1: 0.898460865020752\n",
      "Epoch 135 cost: 2.914966045266661e-10\n",
      "Epoch 135 f1: 0.899213969707489\n",
      "Epoch 136 cost: 2.807467959355609e-10\n",
      "Epoch 136 f1: 0.8999549150466919\n",
      "Epoch 137 cost: 2.766006423996772e-10\n",
      "Epoch 137 f1: 0.9006877541542053\n",
      "Epoch 138 cost: 2.5863666003656915e-10\n",
      "Epoch 138 f1: 0.9014055728912354\n",
      "Epoch 139 cost: 2.506901747368507e-10\n",
      "Epoch 139 f1: 0.902119517326355\n",
      "Epoch 140 cost: 2.3841908288841397e-10\n",
      "Epoch 140 f1: 0.902815580368042\n",
      "Epoch 141 cost: 2.344849832882014e-10\n",
      "Epoch 141 f1: 0.903505802154541\n",
      "Epoch 142 cost: 2.2569916560615814e-10\n",
      "Epoch 142 f1: 0.9041852951049805\n",
      "Epoch 143 cost: 2.1705486663154614e-10\n",
      "Epoch 143 f1: 0.9048568606376648\n",
      "Epoch 144 cost: 2.0801608249597553e-10\n",
      "Epoch 144 f1: 0.9055195450782776\n",
      "Epoch 145 cost: 2.0152843372739928e-10\n",
      "Epoch 145 f1: 0.9061699509620667\n",
      "Epoch 146 cost: 2.026119345635164e-10\n",
      "Epoch 146 f1: 0.9068177342414856\n",
      "Epoch 147 cost: 1.9067829381489876e-10\n",
      "Epoch 147 f1: 0.9074509143829346\n",
      "Epoch 148 cost: 1.8532985026467554e-10\n",
      "Epoch 148 f1: 0.9080808758735657\n",
      "Epoch 149 cost: 1.796055855719442e-10\n",
      "Epoch 149 f1: 0.9086945652961731\n",
      "Epoch 150 cost: 1.7773325213098062e-10\n",
      "Epoch 150 f1: 0.9093044996261597\n",
      "Epoch 151 cost: 1.719110656261946e-10\n",
      "Epoch 151 f1: 0.9099040031433105\n",
      "Epoch 152 cost: 1.6736231080427113e-10\n",
      "Epoch 152 f1: 0.9104985594749451\n",
      "Epoch 153 cost: 1.6196873897012597e-10\n",
      "Epoch 153 f1: 0.9110860824584961\n",
      "Epoch 154 cost: 1.566533766256987e-10\n",
      "Epoch 154 f1: 0.9116607904434204\n",
      "Epoch 155 cost: 1.5939614173654592e-10\n",
      "Epoch 155 f1: 0.9122363328933716\n",
      "Epoch 156 cost: 1.499984733761337e-10\n",
      "Epoch 156 f1: 0.9127957224845886\n",
      "Epoch 157 cost: 1.475355457591679e-10\n",
      "Epoch 157 f1: 0.9133561849594116\n",
      "Epoch 158 cost: 1.4404772116286859e-10\n",
      "Epoch 158 f1: 0.9139026403427124\n",
      "Epoch 159 cost: 1.4262939454999624e-10\n",
      "Epoch 159 f1: 0.9144459962844849\n",
      "Epoch 160 cost: 1.3815716230917713e-10\n",
      "Epoch 160 f1: 0.914979100227356\n",
      "Epoch 161 cost: 1.358133646125813e-10\n",
      "Epoch 161 f1: 0.9155095219612122\n",
      "Epoch 162 cost: 1.324871703343176e-10\n",
      "Epoch 162 f1: 0.9160323143005371\n",
      "Epoch 163 cost: 1.2874357599362715e-10\n",
      "Epoch 163 f1: 0.9165460467338562\n",
      "Epoch 164 cost: 1.2972817346090013e-10\n",
      "Epoch 164 f1: 0.9170587658882141\n",
      "Epoch 165 cost: 1.2518028107977237e-10\n",
      "Epoch 165 f1: 0.9175598621368408\n",
      "Epoch 166 cost: 1.20904255443264e-10\n",
      "Epoch 166 f1: 0.9180575609207153\n",
      "Epoch 167 cost: 1.1975456592941137e-10\n"
     ]
    },
    {
     "name": "stdout",
     "output_type": "stream",
     "text": [
      "Epoch 167 f1: 0.9185482859611511\n",
      "Epoch 168 cost: 1.199365466332452e-10\n",
      "Epoch 168 f1: 0.9190348982810974\n",
      "Epoch 169 cost: 1.149916067394209e-10\n",
      "Epoch 169 f1: 0.9195136427879333\n",
      "Epoch 170 cost: 1.1460393264124947e-10\n",
      "Epoch 170 f1: 0.919990062713623\n",
      "Epoch 171 cost: 1.1114745846851114e-10\n",
      "Epoch 171 f1: 0.9204568266868591\n",
      "Epoch 172 cost: 1.0901645195017252e-10\n",
      "Epoch 172 f1: 0.920918345451355\n",
      "Epoch 173 cost: 1.1002076012605266e-10\n",
      "Epoch 173 f1: 0.9213770031929016\n",
      "Epoch 174 cost: 1.0626000022398352e-10\n",
      "Epoch 174 f1: 0.92182856798172\n",
      "Epoch 175 cost: 1.0304158732923513e-10\n",
      "Epoch 175 f1: 0.9222767949104309\n",
      "Epoch 176 cost: 1.0262823708898321e-10\n",
      "Epoch 176 f1: 0.9227185845375061\n",
      "Epoch 177 cost: 1.025915633502087e-10\n",
      "Epoch 177 f1: 0.9231569170951843\n",
      "Epoch 178 cost: 9.93560237907252e-11\n",
      "Epoch 178 f1: 0.9235886931419373\n",
      "Epoch 179 cost: 9.855711860162751e-11\n",
      "Epoch 179 f1: 0.9240179657936096\n",
      "Epoch 180 cost: 9.557790994175692e-11\n",
      "Epoch 180 f1: 0.9244381189346313\n",
      "Epoch 181 cost: 9.488135157745672e-11\n",
      "Epoch 181 f1: 0.9248555898666382\n",
      "Epoch 182 cost: 9.506009662272523e-11\n",
      "Epoch 182 f1: 0.9252688884735107\n",
      "Epoch 183 cost: 9.222103207153453e-11\n",
      "Epoch 183 f1: 0.9256778359413147\n",
      "Epoch 184 cost: 8.970502378915116e-11\n",
      "Epoch 184 f1: 0.9260826110839844\n",
      "Epoch 185 cost: 8.925153532176976e-11\n",
      "Epoch 185 f1: 0.9264810681343079\n",
      "Epoch 186 cost: 9.045211966388731e-11\n",
      "Epoch 186 f1: 0.9268798232078552\n",
      "Epoch 187 cost: 8.716776761885017e-11\n",
      "Epoch 187 f1: 0.9272697567939758\n",
      "Epoch 188 cost: 8.568152374501803e-11\n",
      "Epoch 188 f1: 0.9276601672172546\n",
      "Epoch 189 cost: 8.420983902761854e-11\n",
      "Epoch 189 f1: 0.9280399680137634\n",
      "Epoch 190 cost: 8.449769678875437e-11\n",
      "Epoch 190 f1: 0.9284195899963379\n",
      "Epoch 191 cost: 8.303946753013348e-11\n",
      "Epoch 191 f1: 0.928794264793396\n",
      "Epoch 192 cost: 8.15523776275615e-11\n",
      "Epoch 192 f1: 0.929165244102478\n",
      "Epoch 193 cost: 8.006790126802515e-11\n",
      "Epoch 193 f1: 0.9295340180397034\n",
      "Epoch 194 cost: 7.856536643577735e-11\n",
      "Epoch 194 f1: 0.9298959970474243\n",
      "Epoch 195 cost: 8.064161504709957e-11\n",
      "Epoch 195 f1: 0.9302582740783691\n",
      "Epoch 196 cost: 7.705410448860442e-11\n",
      "Epoch 196 f1: 0.9306133985519409\n",
      "Epoch 197 cost: 7.619103175790683e-11\n",
      "Epoch 197 f1: 0.9309676289558411\n",
      "Epoch 198 cost: 7.535280696066406e-11\n",
      "Epoch 198 f1: 0.931315004825592\n",
      "Epoch 199 cost: 7.566681608090133e-11\n",
      "Epoch 199 f1: 0.9316605925559998\n",
      "Epoch 200 cost: 7.385012930216384e-11\n",
      "Epoch 200 f1: 0.9320017695426941\n",
      "Epoch 201 cost: 7.33299008441769e-11\n",
      "Epoch 201 f1: 0.9323415160179138\n",
      "Epoch 202 cost: 7.201908903366069e-11\n",
      "Epoch 202 f1: 0.9326773285865784\n",
      "Epoch 203 cost: 7.076476021259382e-11\n",
      "Epoch 203 f1: 0.9330078959465027\n",
      "Epoch 204 cost: 7.184971047409765e-11\n",
      "Epoch 204 f1: 0.9333382248878479\n",
      "Epoch 205 cost: 6.935647112558869e-11\n",
      "Epoch 205 f1: 0.9336618781089783\n",
      "Epoch 206 cost: 6.873713102692264e-11\n",
      "Epoch 206 f1: 0.9339863061904907\n",
      "Epoch 207 cost: 6.806934659574599e-11\n",
      "Epoch 207 f1: 0.934304416179657\n",
      "Epoch 208 cost: 6.838755997016077e-11\n",
      "Epoch 208 f1: 0.9346205592155457\n",
      "Epoch 209 cost: 6.644090503085352e-11\n",
      "Epoch 209 f1: 0.9349332451820374\n",
      "Epoch 210 cost: 6.648161880805072e-11\n",
      "Epoch 210 f1: 0.9352446794509888\n",
      "Epoch 211 cost: 6.520411230242561e-11\n",
      "Epoch 211 f1: 0.9355514645576477\n",
      "Epoch 212 cost: 6.412998399152491e-11\n",
      "Epoch 212 f1: 0.9358543753623962\n",
      "Epoch 213 cost: 6.530927104582739e-11\n",
      "Epoch 213 f1: 0.9361572265625\n",
      "Epoch 214 cost: 6.363607838444914e-11\n",
      "Epoch 214 f1: 0.9364551901817322\n",
      "Epoch 215 cost: 6.171154003906815e-11\n",
      "Epoch 215 f1: 0.9367515444755554\n",
      "Epoch 216 cost: 6.196124847425945e-11\n",
      "Epoch 216 f1: 0.9370440244674683\n",
      "Epoch 217 cost: 6.272410749609678e-11\n",
      "Epoch 217 f1: 0.9373357892036438\n",
      "Epoch 218 cost: 6.07184117443046e-11\n",
      "Epoch 218 f1: 0.937622606754303\n",
      "Epoch 219 cost: 6.064099641168706e-11\n",
      "Epoch 219 f1: 0.9379091262817383\n",
      "Epoch 220 cost: 5.921909906759597e-11\n",
      "Epoch 220 f1: 0.9381903409957886\n",
      "Epoch 221 cost: 5.890351665965725e-11\n",
      "Epoch 221 f1: 0.938469409942627\n",
      "Epoch 222 cost: 5.958615843569922e-11\n",
      "Epoch 222 f1: 0.9387471079826355\n",
      "Epoch 223 cost: 5.803203049534222e-11\n",
      "Epoch 223 f1: 0.9390220642089844\n",
      "Epoch 224 cost: 5.6743948406986064e-11\n",
      "Epoch 224 f1: 0.9392945170402527\n",
      "Epoch 225 cost: 5.687421653295702e-11\n",
      "Epoch 225 f1: 0.9395650029182434\n",
      "Epoch 226 cost: 5.773367544383318e-11\n",
      "Epoch 226 f1: 0.9398330450057983\n",
      "Epoch 227 cost: 5.5782397063013696e-11\n",
      "Epoch 227 f1: 0.9400982856750488\n",
      "Epoch 228 cost: 5.5514969468115096e-11\n",
      "Epoch 228 f1: 0.940362274646759\n",
      "Epoch 229 cost: 5.4462556688594e-11\n",
      "Epoch 229 f1: 0.9406217932701111\n",
      "Epoch 230 cost: 5.4999240561630405e-11\n",
      "Epoch 230 f1: 0.9408801794052124\n",
      "Epoch 231 cost: 5.4430360590771225e-11\n",
      "Epoch 231 f1: 0.9411357045173645\n",
      "Epoch 232 cost: 5.3342655208802243e-11\n",
      "Epoch 232 f1: 0.941389799118042\n",
      "Epoch 233 cost: 5.278173524028048e-11\n",
      "Epoch 233 f1: 0.9416422247886658\n",
      "Epoch 234 cost: 5.2153819506345626e-11\n",
      "Epoch 234 f1: 0.9418906569480896\n",
      "Epoch 235 cost: 5.3621412615531634e-11\n",
      "Epoch 235 f1: 0.9421402215957642\n",
      "Epoch 236 cost: 5.14085562844481e-11\n",
      "Epoch 236 f1: 0.9423845410346985\n",
      "Epoch 237 cost: 5.11864824949187e-11\n",
      "Epoch 237 f1: 0.9426293969154358\n",
      "Epoch 238 cost: 5.059760282048459e-11\n",
      "Epoch 238 f1: 0.9428689479827881\n",
      "Epoch 239 cost: 5.1183620602206524e-11\n",
      "Epoch 239 f1: 0.9431085586547852\n",
      "Epoch 240 cost: 5.002971880657896e-11\n",
      "Epoch 240 f1: 0.94334477186203\n",
      "Epoch 241 cost: 4.978756699756288e-11\n",
      "Epoch 241 f1: 0.9435803294181824\n",
      "Epoch 242 cost: 4.912005196640061e-11\n",
      "Epoch 242 f1: 0.9438143968582153\n",
      "Epoch 243 cost: 4.8297732724616815e-11\n",
      "Epoch 243 f1: 0.9440450072288513\n",
      "Epoch 244 cost: 4.9789578871971685e-11\n",
      "Epoch 244 f1: 0.9442757964134216\n",
      "Epoch 245 cost: 4.784398372943538e-11\n",
      "Epoch 245 f1: 0.9445024132728577\n",
      "Epoch 246 cost: 4.7602559058951475e-11\n",
      "Epoch 246 f1: 0.9447295665740967\n",
      "Epoch 247 cost: 4.722549840296032e-11\n",
      "Epoch 247 f1: 0.9449525475502014\n",
      "Epoch 248 cost: 4.763365921554062e-11\n",
      "Epoch 248 f1: 0.945175051689148\n",
      "Epoch 249 cost: 4.6613096113154745e-11\n",
      "Epoch 249 f1: 0.9453946352005005\n",
      "Epoch 250 cost: 4.638494957942664e-11\n",
      "Epoch 250 f1: 0.9456140398979187\n",
      "Epoch 251 cost: 4.5883277726933036e-11\n",
      "Epoch 251 f1: 0.9458305239677429\n",
      "Epoch 252 cost: 4.521589973749908e-11\n",
      "Epoch 252 f1: 0.9460450410842896\n",
      "Epoch 253 cost: 4.616610661709192e-11\n",
      "Epoch 253 f1: 0.9462598562240601\n",
      "Epoch 254 cost: 4.514912519741142e-11\n",
      "Epoch 254 f1: 0.9464706182479858\n",
      "Epoch 255 cost: 4.41184610332485e-11\n",
      "Epoch 255 f1: 0.9466811418533325\n",
      "Epoch 256 cost: 4.4130449914818525e-11\n",
      "Epoch 256 f1: 0.9468894004821777\n",
      "Epoch 257 cost: 4.47428049429751e-11\n",
      "Epoch 257 f1: 0.9470967054367065\n",
      "Epoch 258 cost: 4.3535609443501426e-11\n",
      "Epoch 258 f1: 0.9473011493682861\n",
      "Epoch 259 cost: 4.371438997619458e-11\n",
      "Epoch 259 f1: 0.9475061297416687\n",
      "Epoch 260 cost: 4.27115834984463e-11\n",
      "Epoch 260 f1: 0.9477071166038513\n",
      "Epoch 261 cost: 4.2484663659935015e-11\n",
      "Epoch 261 f1: 0.9479070901870728\n",
      "Epoch 262 cost: 4.3339654410443365e-11\n",
      "Epoch 262 f1: 0.9481069445610046\n",
      "Epoch 263 cost: 4.2200216995568286e-11\n",
      "Epoch 263 f1: 0.9483035802841187\n",
      "Epoch 264 cost: 4.134725202685668e-11\n",
      "Epoch 264 f1: 0.9484996795654297\n",
      "Epoch 265 cost: 4.152440042163685e-11\n",
      "Epoch 265 f1: 0.9486944079399109\n",
      "Epoch 266 cost: 4.2316001606626015e-11\n",
      "Epoch 266 f1: 0.9488883018493652\n",
      "Epoch 267 cost: 4.0768192802433496e-11\n",
      "Epoch 267 f1: 0.9490790963172913\n",
      "Epoch 268 cost: 4.092562315279219e-11\n",
      "Epoch 268 f1: 0.949270486831665\n",
      "Epoch 269 cost: 4.017432529895062e-11\n",
      "Epoch 269 f1: 0.9494580626487732\n",
      "Epoch 270 cost: 4.0264621356162604e-11\n",
      "Epoch 270 f1: 0.9496452212333679\n",
      "Epoch 271 cost: 4.050807970434726e-11\n",
      "Epoch 271 f1: 0.9498311877250671\n",
      "Epoch 272 cost: 3.9812588361164e-11\n",
      "Epoch 272 f1: 0.950015664100647\n",
      "Epoch 273 cost: 3.8918150386369264e-11\n",
      "Epoch 273 f1: 0.9501991868019104\n",
      "Epoch 274 cost: 3.905960492579074e-11\n",
      "Epoch 274 f1: 0.950380802154541\n",
      "Epoch 275 cost: 3.994522436523895e-11\n",
      "Epoch 275 f1: 0.9505624175071716\n",
      "Epoch 276 cost: 3.84988041672135e-11\n",
      "Epoch 276 f1: 0.9507408738136292\n",
      "Epoch 277 cost: 3.8447871996503016e-11\n",
      "Epoch 277 f1: 0.9509201049804688\n",
      "Epoch 278 cost: 3.7947065092444905e-11\n",
      "Epoch 278 f1: 0.9510954022407532\n",
      "Epoch 279 cost: 3.841313115536995e-11\n",
      "Epoch 279 f1: 0.9512711763381958\n",
      "Epoch 280 cost: 3.804032882724871e-11\n",
      "Epoch 280 f1: 0.9514449238777161\n",
      "Epoch 281 cost: 3.740977916452061e-11\n",
      "Epoch 281 f1: 0.9516178369522095\n",
      "Epoch 282 cost: 3.709522889125107e-11\n"
     ]
    },
    {
     "name": "stdout",
     "output_type": "stream",
     "text": [
      "Epoch 282 f1: 0.9517903923988342\n",
      "Epoch 283 cost: 3.6658662870322847e-11\n",
      "Epoch 283 f1: 0.9519602656364441\n",
      "Epoch 284 cost: 3.7987709303735524e-11\n",
      "Epoch 284 f1: 0.9521308541297913\n",
      "Epoch 285 cost: 3.634834051332108e-11\n",
      "Epoch 285 f1: 0.9522985219955444\n"
     ]
    },
    {
     "ename": "KeyboardInterrupt",
     "evalue": "",
     "output_type": "error",
     "traceback": [
      "\u001b[1;31m---------------------------------------------------------------------------\u001b[0m",
      "\u001b[1;31mKeyboardInterrupt\u001b[0m                         Traceback (most recent call last)",
      "\u001b[1;32m<ipython-input-23-c731b60a4e89>\u001b[0m in \u001b[0;36m<module>\u001b[1;34m()\u001b[0m\n\u001b[0;32m     10\u001b[0m \u001b[1;33m\u001b[0m\u001b[0m\n\u001b[0;32m     11\u001b[0m     \u001b[1;32mfor\u001b[0m \u001b[0m_\u001b[0m \u001b[1;32min\u001b[0m \u001b[0mrange\u001b[0m\u001b[1;33m(\u001b[0m\u001b[0mnum_batches\u001b[0m\u001b[1;33m)\u001b[0m\u001b[1;33m:\u001b[0m\u001b[1;33m\u001b[0m\u001b[0m\n\u001b[1;32m---> 12\u001b[1;33m         \u001b[0m_\u001b[0m \u001b[1;33m,\u001b[0m \u001b[0mbatch_loss\u001b[0m\u001b[1;33m,\u001b[0m \u001b[0m_\u001b[0m \u001b[1;33m=\u001b[0m \u001b[0msess\u001b[0m\u001b[1;33m.\u001b[0m\u001b[0mrun\u001b[0m\u001b[1;33m(\u001b[0m\u001b[1;33m[\u001b[0m\u001b[0moptimizer\u001b[0m\u001b[1;33m,\u001b[0m \u001b[0mloss\u001b[0m\u001b[1;33m,\u001b[0m \u001b[0mf1_update\u001b[0m\u001b[1;33m]\u001b[0m\u001b[1;33m)\u001b[0m\u001b[1;33m\u001b[0m\u001b[0m\n\u001b[0m\u001b[0;32m     13\u001b[0m         \u001b[0mbatch_cost\u001b[0m \u001b[1;33m+=\u001b[0m \u001b[0mbatch_loss\u001b[0m \u001b[1;33m/\u001b[0m \u001b[0mnum_batches\u001b[0m\u001b[1;33m\u001b[0m\u001b[0m\n\u001b[0;32m     14\u001b[0m         \u001b[1;31m#batch_f1.append(f1_temp)\u001b[0m\u001b[1;33m\u001b[0m\u001b[1;33m\u001b[0m\u001b[0m\n",
      "\u001b[1;32mC:\\Anaconda\\lib\\site-packages\\tensorflow\\python\\client\\session.py\u001b[0m in \u001b[0;36mrun\u001b[1;34m(self, fetches, feed_dict, options, run_metadata)\u001b[0m\n\u001b[0;32m    927\u001b[0m     \u001b[1;32mtry\u001b[0m\u001b[1;33m:\u001b[0m\u001b[1;33m\u001b[0m\u001b[0m\n\u001b[0;32m    928\u001b[0m       result = self._run(None, fetches, feed_dict, options_ptr,\n\u001b[1;32m--> 929\u001b[1;33m                          run_metadata_ptr)\n\u001b[0m\u001b[0;32m    930\u001b[0m       \u001b[1;32mif\u001b[0m \u001b[0mrun_metadata\u001b[0m\u001b[1;33m:\u001b[0m\u001b[1;33m\u001b[0m\u001b[0m\n\u001b[0;32m    931\u001b[0m         \u001b[0mproto_data\u001b[0m \u001b[1;33m=\u001b[0m \u001b[0mtf_session\u001b[0m\u001b[1;33m.\u001b[0m\u001b[0mTF_GetBuffer\u001b[0m\u001b[1;33m(\u001b[0m\u001b[0mrun_metadata_ptr\u001b[0m\u001b[1;33m)\u001b[0m\u001b[1;33m\u001b[0m\u001b[0m\n",
      "\u001b[1;32mC:\\Anaconda\\lib\\site-packages\\tensorflow\\python\\client\\session.py\u001b[0m in \u001b[0;36m_run\u001b[1;34m(self, handle, fetches, feed_dict, options, run_metadata)\u001b[0m\n\u001b[0;32m   1150\u001b[0m     \u001b[1;32mif\u001b[0m \u001b[0mfinal_fetches\u001b[0m \u001b[1;32mor\u001b[0m \u001b[0mfinal_targets\u001b[0m \u001b[1;32mor\u001b[0m \u001b[1;33m(\u001b[0m\u001b[0mhandle\u001b[0m \u001b[1;32mand\u001b[0m \u001b[0mfeed_dict_tensor\u001b[0m\u001b[1;33m)\u001b[0m\u001b[1;33m:\u001b[0m\u001b[1;33m\u001b[0m\u001b[0m\n\u001b[0;32m   1151\u001b[0m       results = self._do_run(handle, final_targets, final_fetches,\n\u001b[1;32m-> 1152\u001b[1;33m                              feed_dict_tensor, options, run_metadata)\n\u001b[0m\u001b[0;32m   1153\u001b[0m     \u001b[1;32melse\u001b[0m\u001b[1;33m:\u001b[0m\u001b[1;33m\u001b[0m\u001b[0m\n\u001b[0;32m   1154\u001b[0m       \u001b[0mresults\u001b[0m \u001b[1;33m=\u001b[0m \u001b[1;33m[\u001b[0m\u001b[1;33m]\u001b[0m\u001b[1;33m\u001b[0m\u001b[0m\n",
      "\u001b[1;32mC:\\Anaconda\\lib\\site-packages\\tensorflow\\python\\client\\session.py\u001b[0m in \u001b[0;36m_do_run\u001b[1;34m(self, handle, target_list, fetch_list, feed_dict, options, run_metadata)\u001b[0m\n\u001b[0;32m   1326\u001b[0m     \u001b[1;32mif\u001b[0m \u001b[0mhandle\u001b[0m \u001b[1;32mis\u001b[0m \u001b[1;32mNone\u001b[0m\u001b[1;33m:\u001b[0m\u001b[1;33m\u001b[0m\u001b[0m\n\u001b[0;32m   1327\u001b[0m       return self._do_call(_run_fn, feeds, fetches, targets, options,\n\u001b[1;32m-> 1328\u001b[1;33m                            run_metadata)\n\u001b[0m\u001b[0;32m   1329\u001b[0m     \u001b[1;32melse\u001b[0m\u001b[1;33m:\u001b[0m\u001b[1;33m\u001b[0m\u001b[0m\n\u001b[0;32m   1330\u001b[0m       \u001b[1;32mreturn\u001b[0m \u001b[0mself\u001b[0m\u001b[1;33m.\u001b[0m\u001b[0m_do_call\u001b[0m\u001b[1;33m(\u001b[0m\u001b[0m_prun_fn\u001b[0m\u001b[1;33m,\u001b[0m \u001b[0mhandle\u001b[0m\u001b[1;33m,\u001b[0m \u001b[0mfeeds\u001b[0m\u001b[1;33m,\u001b[0m \u001b[0mfetches\u001b[0m\u001b[1;33m)\u001b[0m\u001b[1;33m\u001b[0m\u001b[0m\n",
      "\u001b[1;32mC:\\Anaconda\\lib\\site-packages\\tensorflow\\python\\client\\session.py\u001b[0m in \u001b[0;36m_do_call\u001b[1;34m(self, fn, *args)\u001b[0m\n\u001b[0;32m   1332\u001b[0m   \u001b[1;32mdef\u001b[0m \u001b[0m_do_call\u001b[0m\u001b[1;33m(\u001b[0m\u001b[0mself\u001b[0m\u001b[1;33m,\u001b[0m \u001b[0mfn\u001b[0m\u001b[1;33m,\u001b[0m \u001b[1;33m*\u001b[0m\u001b[0margs\u001b[0m\u001b[1;33m)\u001b[0m\u001b[1;33m:\u001b[0m\u001b[1;33m\u001b[0m\u001b[0m\n\u001b[0;32m   1333\u001b[0m     \u001b[1;32mtry\u001b[0m\u001b[1;33m:\u001b[0m\u001b[1;33m\u001b[0m\u001b[0m\n\u001b[1;32m-> 1334\u001b[1;33m       \u001b[1;32mreturn\u001b[0m \u001b[0mfn\u001b[0m\u001b[1;33m(\u001b[0m\u001b[1;33m*\u001b[0m\u001b[0margs\u001b[0m\u001b[1;33m)\u001b[0m\u001b[1;33m\u001b[0m\u001b[0m\n\u001b[0m\u001b[0;32m   1335\u001b[0m     \u001b[1;32mexcept\u001b[0m \u001b[0merrors\u001b[0m\u001b[1;33m.\u001b[0m\u001b[0mOpError\u001b[0m \u001b[1;32mas\u001b[0m \u001b[0me\u001b[0m\u001b[1;33m:\u001b[0m\u001b[1;33m\u001b[0m\u001b[0m\n\u001b[0;32m   1336\u001b[0m       \u001b[0mmessage\u001b[0m \u001b[1;33m=\u001b[0m \u001b[0mcompat\u001b[0m\u001b[1;33m.\u001b[0m\u001b[0mas_text\u001b[0m\u001b[1;33m(\u001b[0m\u001b[0me\u001b[0m\u001b[1;33m.\u001b[0m\u001b[0mmessage\u001b[0m\u001b[1;33m)\u001b[0m\u001b[1;33m\u001b[0m\u001b[0m\n",
      "\u001b[1;32mC:\\Anaconda\\lib\\site-packages\\tensorflow\\python\\client\\session.py\u001b[0m in \u001b[0;36m_run_fn\u001b[1;34m(feed_dict, fetch_list, target_list, options, run_metadata)\u001b[0m\n\u001b[0;32m   1317\u001b[0m       \u001b[0mself\u001b[0m\u001b[1;33m.\u001b[0m\u001b[0m_extend_graph\u001b[0m\u001b[1;33m(\u001b[0m\u001b[1;33m)\u001b[0m\u001b[1;33m\u001b[0m\u001b[0m\n\u001b[0;32m   1318\u001b[0m       return self._call_tf_sessionrun(\n\u001b[1;32m-> 1319\u001b[1;33m           options, feed_dict, fetch_list, target_list, run_metadata)\n\u001b[0m\u001b[0;32m   1320\u001b[0m \u001b[1;33m\u001b[0m\u001b[0m\n\u001b[0;32m   1321\u001b[0m     \u001b[1;32mdef\u001b[0m \u001b[0m_prun_fn\u001b[0m\u001b[1;33m(\u001b[0m\u001b[0mhandle\u001b[0m\u001b[1;33m,\u001b[0m \u001b[0mfeed_dict\u001b[0m\u001b[1;33m,\u001b[0m \u001b[0mfetch_list\u001b[0m\u001b[1;33m)\u001b[0m\u001b[1;33m:\u001b[0m\u001b[1;33m\u001b[0m\u001b[0m\n",
      "\u001b[1;32mC:\\Anaconda\\lib\\site-packages\\tensorflow\\python\\client\\session.py\u001b[0m in \u001b[0;36m_call_tf_sessionrun\u001b[1;34m(self, options, feed_dict, fetch_list, target_list, run_metadata)\u001b[0m\n\u001b[0;32m   1405\u001b[0m     return tf_session.TF_SessionRun_wrapper(\n\u001b[0;32m   1406\u001b[0m         \u001b[0mself\u001b[0m\u001b[1;33m.\u001b[0m\u001b[0m_session\u001b[0m\u001b[1;33m,\u001b[0m \u001b[0moptions\u001b[0m\u001b[1;33m,\u001b[0m \u001b[0mfeed_dict\u001b[0m\u001b[1;33m,\u001b[0m \u001b[0mfetch_list\u001b[0m\u001b[1;33m,\u001b[0m \u001b[0mtarget_list\u001b[0m\u001b[1;33m,\u001b[0m\u001b[1;33m\u001b[0m\u001b[0m\n\u001b[1;32m-> 1407\u001b[1;33m         run_metadata)\n\u001b[0m\u001b[0;32m   1408\u001b[0m \u001b[1;33m\u001b[0m\u001b[0m\n\u001b[0;32m   1409\u001b[0m   \u001b[1;32mdef\u001b[0m \u001b[0m_call_tf_sessionprun\u001b[0m\u001b[1;33m(\u001b[0m\u001b[0mself\u001b[0m\u001b[1;33m,\u001b[0m \u001b[0mhandle\u001b[0m\u001b[1;33m,\u001b[0m \u001b[0mfeed_dict\u001b[0m\u001b[1;33m,\u001b[0m \u001b[0mfetch_list\u001b[0m\u001b[1;33m)\u001b[0m\u001b[1;33m:\u001b[0m\u001b[1;33m\u001b[0m\u001b[0m\n",
      "\u001b[1;31mKeyboardInterrupt\u001b[0m: "
     ]
    }
   ],
   "source": [
    "# initialize iterator with train data\n",
    "sess.run(iterator.initializer, feed_dict={X:train_X, Y:train_y, batch_size:BATCH_SIZE})\n",
    "num_epochs = 10000\n",
    "model_dir = './model-v2'\n",
    "\n",
    "# Do the training loop\n",
    "for epoch in range(51, num_epochs+1):\n",
    "    batch_cost = 0.\n",
    "    num_batches = 2000 #int(train_X.shape[0] / BATCH_SIZE) # number of minibatches of size minibatch_size in the train set\n",
    "    seed += seed\n",
    "    tf.set_random_seed(seed)\n",
    "\n",
    "    for _ in range(num_batches):\n",
    "        _ , batch_loss, _ = sess.run([optimizer, loss, f1_update])\n",
    "        batch_cost += batch_loss / num_batches\n",
    "        #batch_f1.append(f1_temp)\n",
    "        \n",
    "    #f1.append(len(batch_f1)/sum(1.0 / b for b in batch_f1 if b!=0))\n",
    "    cur_f1 = sess.run(F1)\n",
    "    sess.run(reset_op)\n",
    "    f1.append(cur_f1)\n",
    "    costs.append(batch_cost)\n",
    "    print (f\"Epoch {epoch} cost: {batch_cost}\")\n",
    "    print (f\"Epoch {epoch} f1: {cur_f1}\")\n",
    "    saver.save(sess, f'{model_dir}/model-epoch{epoch}.ckpt')\n",
    "    info = {'f1':f1, 'costs':costs, 'epoch':epoch}\n",
    "    with open(f'{model_dir}/model_info.pickle', 'wb') as handle:\n",
    "        pickle.dump(info, handle, protocol=pickle.HIGHEST_PROTOCOL)"
   ]
  },
  {
   "cell_type": "code",
   "execution_count": 24,
   "metadata": {
    "_uuid": "c6aa61b1b9c3884b6be18b8409899af75506d8ec"
   },
   "outputs": [
    {
     "data": {
      "image/png": "[encoded data removed]",
      "text/plain": [
       "<Figure size 432x288 with 1 Axes>"
      ]
     },
     "metadata": {},
     "output_type": "display_data"
    }
   ],
   "source": [
    "# plot the cost\n",
    "plt.plot(np.squeeze(costs))\n",
    "plt.ylabel('cost')\n",
    "plt.xlabel('iterations (per tens)')\n",
    "#plt.title(\"Learning rate =\" + str(learning_rate))\n",
    "plt.show()"
   ]
  },
  {
   "cell_type": "code",
   "execution_count": 25,
   "metadata": {},
   "outputs": [
    {
     "data": {
      "image/png": "[encoded data removed]",
      "text/plain": [
       "<Figure size 432x288 with 1 Axes>"
      ]
     },
     "metadata": {},
     "output_type": "display_data"
    }
   ],
   "source": [
    "# plot the cost\n",
    "plt.plot(np.squeeze(f1))\n",
    "plt.ylabel('cost')\n",
    "plt.xlabel('iterations (per tens)')\n",
    "#plt.title(\"Learning rate =\" + str(learning_rate))\n",
    "plt.show()"
   ]
  },
  {
   "cell_type": "code",
   "execution_count": 28,
   "metadata": {
    "_uuid": "1204e3b70380fcbb804bc24681d5037a39ae8230"
   },
   "outputs": [
    {
     "name": "stdout",
     "output_type": "stream",
     "text": [
      "Validation cost: 2.5251167601696327\n",
      "Validation f1: 0.9508321285247803\n"
     ]
    }
   ],
   "source": [
    "sess.run(iterator.initializer, feed_dict={X: val_X, Y: val_y, batch_size: 64})\n",
    "sess.run(reset_op)\n",
    "val_cost = 0.\n",
    "num_batches = int(val_X.shape[0] / BATCH_SIZE) # number of minibatches of size minibatch_size in the train set\n",
    "tf.set_random_seed(2018)\n",
    "\n",
    "for _ in range(num_batches):\n",
    "    batch_loss, _ = sess.run([loss, f1_update])\n",
    "    val_cost += batch_loss / num_batches\n",
    "\n",
    "print (f\"Validation cost: {val_cost}\")\n",
    "print (f\"Validation f1: {sess.run(F1)}\")"
   ]
  }
 ],
 "metadata": {
  "kernelspec": {
   "display_name": "Python 3",
   "language": "python",
   "name": "python3"
  },
  "language_info": {
   "codemirror_mode": {
    "name": "ipython",
    "version": 3
   },
   "file_extension": ".py",
   "mimetype": "text/x-python",
   "name": "python",
   "nbconvert_exporter": "python",
   "pygments_lexer": "ipython3",
   "version": "3.6.5"
  }
 },
 "nbformat": 4,
 "nbformat_minor": 1
}
