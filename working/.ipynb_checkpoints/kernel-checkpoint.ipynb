{
 "cells": [
  {
   "cell_type": "code",
   "execution_count": 1,
   "metadata": {
    "_cell_guid": "b1076dfc-b9ad-4769-8c92-a6c4dae69d19",
    "_uuid": "8f2839f25d086af736a60e9eeb907d3b93b6e0e5"
   },
   "outputs": [
    {
     "name": "stderr",
     "output_type": "stream",
     "text": [
      "C:\\Anaconda\\lib\\site-packages\\h5py\\__init__.py:36: FutureWarning: Conversion of the second argument of issubdtype from `float` to `np.floating` is deprecated. In future, it will be treated as `np.float64 == np.dtype(float).type`.\n",
      "  from ._conv import register_converters as _register_converters\n",
      "Using TensorFlow backend.\n"
     ]
    },
    {
     "name": "stdout",
     "output_type": "stream",
     "text": [
      "['embeddings', 'embeddings.zip', 'sample_submission.csv', 'test.csv', 'train.csv']\n"
     ]
    }
   ],
   "source": [
    "# This Python 3 environment comes with many helpful analytics libraries installed\n",
    "# It is defined by the kaggle/python docker image: https://github.com/kaggle/docker-python\n",
    "# For example, here's several helpful packages to load in \n",
    "\n",
    "import numpy as np\n",
    "import pandas as pd\n",
    "import tensorflow as tf\n",
    "from tqdm import tqdm\n",
    "\n",
    "from keras.preprocessing.text import Tokenizer\n",
    "from keras.preprocessing.sequence import pad_sequences\n",
    "\n",
    "from sklearn.model_selection import train_test_split\n",
    "from sklearn import metrics\n",
    "\n",
    "import matplotlib.pyplot as plt\n",
    "tqdm.pandas()\n",
    "\n",
    "import pickle\n",
    "# Input data files are available in the \"../input/\" directory.\n",
    "# For example, running this (by clicking run or pressing Shift+Enter) will list the files in the input directory\n",
    "\n",
    "import os\n",
    "print(os.listdir(\"../input\"))\n",
    "# Any results you write to the current directory are saved as output."
   ]
  },
  {
   "cell_type": "code",
   "execution_count": 2,
   "metadata": {
    "_uuid": "6444828abec5a0e0183b06ac88ebb775773ddfaa"
   },
   "outputs": [
    {
     "name": "stdout",
     "output_type": "stream",
     "text": [
      "Default GPU Device: /device:GPU:0\n"
     ]
    }
   ],
   "source": [
    "if tf.test.gpu_device_name():\n",
    "    print('Default GPU Device: {}'.format(tf.test.gpu_device_name()))\n",
    "else:\n",
    "    print(\"Please install GPU version of TF\")"
   ]
  },
  {
   "cell_type": "markdown",
   "metadata": {
    "_cell_guid": "79c7e3d0-c299-4dcb-8224-4455121ee9b0",
    "_uuid": "d629ff2d2480ee46fbb7e2d37f6b5fab8052498a",
    "collapsed": true
   },
   "source": [
    "# Preprocessing\n",
    "Based on https://www.kaggle.com/christofhenkel/how-to-preprocessing-when-using-embeddings"
   ]
  },
  {
   "cell_type": "code",
   "execution_count": 3,
   "metadata": {
    "_uuid": "b9685ca6a5bb39ec0116653bc90a87e96f11ef2a"
   },
   "outputs": [
    {
     "name": "stdout",
     "output_type": "stream",
     "text": [
      "Train shape: (1306122, 3)\n",
      "Test shape:  (56370, 2)\n"
     ]
    }
   ],
   "source": [
    "train = pd.read_csv(\"../input/train.csv\")\n",
    "test = pd.read_csv(\"../input/test.csv\")\n",
    "print(f\"Train shape: {train.shape}\")\n",
    "print(f\"Test shape:  {test.shape}\")"
   ]
  },
  {
   "cell_type": "code",
   "execution_count": 4,
   "metadata": {
    "_uuid": "cb0955e5f96c53e628b6b12968d6f6c1ba638e97"
   },
   "outputs": [],
   "source": [
    "train, validation = train_test_split(train, test_size=0.08, random_state=20181224)\n",
    "\n",
    "embed_size = 300 #word vector sizes\n",
    "vocab_size = 95000 # words in vocabulary\n",
    "maxlen = 100 # max words to use per question\n",
    "\n",
    "## fill up the missing values\n",
    "train_X = train[\"question_text\"].fillna(\"_##_\").values\n",
    "val_X = validation[\"question_text\"].fillna(\"_##_\").values\n",
    "test_X = test[\"question_text\"].fillna(\"_##_\").values\n",
    "\n",
    "# Use TensorFlow tokenizer\n",
    "tokenizer = Tokenizer(num_words=vocab_size)\n",
    "tokenizer.fit_on_texts(list(train_X))\n",
    "train_X = tokenizer.texts_to_sequences(train_X)\n",
    "val_X = tokenizer.texts_to_sequences(val_X)\n",
    "test_X = tokenizer.texts_to_sequences(test_X)\n",
    "\n",
    "## Pad sentences\n",
    "train_X = pad_sequences(train_X, maxlen=maxlen)\n",
    "val_X = pad_sequences(val_X, maxlen=maxlen)\n",
    "test_X = pad_sequences(test_X, maxlen=maxlen)\n",
    "\n",
    "## Get the response\n",
    "train_y = train['target'].values\n",
    "val_y = validation['target'].values"
   ]
  },
  {
   "cell_type": "markdown",
   "metadata": {
    "_uuid": "24e8fa32d29e53571f65e23c33cdcd7ebaa811ae"
   },
   "source": [
    "setting up embeddings"
   ]
  },
  {
   "cell_type": "code",
   "execution_count": null,
   "metadata": {
    "_uuid": "a06dd5009c9a92e1751a1e77b6d394607b1867a6"
   },
   "outputs": [],
   "source": [
    "EMBEDDING_FILE = '../input/embeddings/glove.840B.300d/glove.840B.300d.txt' \n",
    "def get_coefs(word,*arr): return word, np.asarray(arr, dtype='float32') \n",
    "embeddings_index = dict(get_coefs(*o.split(\" \")) for o in open(EMBEDDING_FILE, encoding=\"utf8\"))"
   ]
  },
  {
   "cell_type": "code",
   "execution_count": null,
   "metadata": {
    "_uuid": "44fd5c1d7f78d58425a2905e5951263bd18390f4"
   },
   "outputs": [],
   "source": [
    "all_embs = np.stack(embeddings_index.values())\n",
    "emb_mean,emb_std = all_embs.mean(), all_embs.std()\n",
    "embed_size = all_embs.shape[1]"
   ]
  },
  {
   "cell_type": "code",
   "execution_count": null,
   "metadata": {
    "_uuid": "e600ad624600ee2e1f48d3c1ebde7517170aaf9c"
   },
   "outputs": [],
   "source": [
    "word_index = tokenizer.word_index\n",
    "nb_words = min(vocab_size, len(word_index))\n",
    "embedding_matrix = np.random.normal(emb_mean, emb_std, (nb_words, embed_size))\n",
    "for word, i in word_index.items():\n",
    "    if i >= vocab_size: continue\n",
    "    embedding_vector = embeddings_index.get(word)\n",
    "    if embedding_vector is not None: embedding_matrix[i] = embedding_vector"
   ]
  },
  {
   "cell_type": "code",
   "execution_count": null,
   "metadata": {
    "_uuid": "b61c2782f2b65fa9befe69e23f7e9a1bce13c20b"
   },
   "outputs": [],
   "source": [
    "with open('embedding_matrix.pickle', 'wb') as handle:\n",
    "    pickle.dump(embedding_matrix, handle, protocol=pickle.HIGHEST_PROTOCOL)"
   ]
  },
  {
   "cell_type": "code",
   "execution_count": 13,
   "metadata": {
    "_uuid": "695a41ba9193efc71417e7633ce9e9d6cc3477fc"
   },
   "outputs": [],
   "source": [
    "with open('embedding_matrix.pickle', 'rb') as handle:\n",
    "     embedding_matrix = pickle.load(handle)"
   ]
  },
  {
   "cell_type": "markdown",
   "metadata": {
    "_uuid": "0c807ceb4279ddcef2930c95a732f94928c33ae1"
   },
   "source": [
    "\n",
    "\n",
    "\n",
    "# Building\n",
    "based on https://www.kaggle.com/shujian/different-embeddings-with-attention-fork-fork/notebook"
   ]
  },
  {
   "cell_type": "code",
   "execution_count": null,
   "metadata": {
    "_uuid": "e5f211b06805b1cfbcd3da110450b1debf6bfee6"
   },
   "outputs": [],
   "source": [
    "hidden_layer_size = 100\n",
    "BATCH_SIZE = 64\n",
    "\n",
    "# this just makes sure that all our following operations will be placed in the right graph.\n",
    "tf.reset_default_graph()\n",
    "\n",
    "# should be batchsize x question length x vocab_size\n",
    "# using None instead of batch size allows us to use variable batch sizes\n",
    "X = tf.placeholder(tf.int32, [None, maxlen], name='X')\n",
    "# 1d vector with size = None because we want to predict one val for each q, but want variable batch sizes\n",
    "Y = tf.placeholder(tf.float32, [None], name='Y')\n",
    "batch_size = tf.placeholder(tf.int64)\n",
    "\n",
    "dataset = tf.data.Dataset.from_tensor_slices((X, Y))\n",
    "dataset = dataset.shuffle(buffer_size=1000).batch(batch_size).repeat()\n",
    "iterator = dataset.make_initializable_iterator()\n",
    "questions, labels = iterator.get_next()\n",
    "\n",
    "embeddings = tf.get_variable(name=\"embeddings\", shape=embedding_matrix.shape,\n",
    "                             initializer=tf.constant_initializer(np.array(embedding_matrix)), \n",
    "                             trainable=False)\n",
    "embed = tf.nn.embedding_lookup(embeddings, questions)\n",
    "'''\n",
    "lstm_cell_1 = tf.contrib.rnn.LSTMCell(hidden_layer_size)\n",
    "lstm_cell_2 = tf.contrib.rnn.LSTMCell(hidden_layer_size)\n",
    "\n",
    "#state tuple=true  let's us access part of the cell state later\n",
    "multi_lstm_cells = tf.contrib.rnn.MultiRNNCell(cells=[lstm_cell_1, lstm_cell_2] , state_is_tuple=True) \n",
    "\n",
    "# define the operation that runs the LSTM, across time, on the data\n",
    "_, final_state = tf.nn.dynamic_rnn(multi_lstm_cells, embed, dtype=tf.float32)\n",
    "\n",
    "#classification = linear(final_state[-1][-1], 1, name=\"output\")\n",
    "FLAT = tf.layers.flatten(final_state[-1][-1])\n",
    "last_layer = tf.layers.dense(FLAT, 1)\n",
    "classification = tf.nn.sigmoid(last_layer)\n",
    "classification = tf.squeeze(classification, [1])\n",
    "'''\n",
    "\n",
    "lstm_cell_1 = tf.contrib.rnn.LSTMCell(hidden_layer_size)\n",
    "\n",
    "# define the operation that runs the LSTM, across time, on the data\n",
    "_, final_state = tf.nn.dynamic_rnn(lstm_cell_1, embed, dtype=tf.float32)\n",
    "\n",
    "#classification = linear(final_state[-1][-1], 1, name=\"output\")\n",
    "FLAT = tf.layers.flatten(final_state.h)\n",
    "last_layer = tf.layers.dense(FLAT, 1)\n",
    "classification = tf.nn.sigmoid(last_layer)\n",
    "classification = tf.squeeze(classification, [1])"
   ]
  },
  {
   "cell_type": "code",
   "execution_count": 18,
   "metadata": {
    "_uuid": "85c408559debe74847f9820c605ffa85dbc47083"
   },
   "outputs": [],
   "source": [
    "# define cross entropy loss function\n",
    "loss = tf.nn.sigmoid_cross_entropy_with_logits(logits=classification, labels=labels)\n",
    "loss = tf.reduce_mean(loss)\n",
    "\n",
    "# define our optimizer to minimize the loss\n",
    "optimizer = tf.train.AdamOptimizer().minimize(loss)"
   ]
  },
  {
   "cell_type": "code",
   "execution_count": 19,
   "metadata": {
    "_uuid": "4bdcce2a0778cbb7ee105ee20c2c9c0d3b3968bd"
   },
   "outputs": [],
   "source": [
    "# to get actual results like 'positive' or 'negative' , \n",
    "# we round the prediction probability to 0 or 1.\n",
    "prediction = tf.to_float(tf.greater_equal(classification, 0.5))\n",
    "F1, f1_update = tf.contrib.metrics.f1_score(labels=labels, predictions=prediction)"
   ]
  },
  {
   "cell_type": "code",
   "execution_count": 28,
   "metadata": {
    "_uuid": "9942110307254cecef3d5c36fe72e924f022a1c9"
   },
   "outputs": [],
   "source": [
    "num_epochs = 10\n",
    "seed = 3\n",
    "\n",
    "saver = tf.train.Saver()\n",
    "# Start the session to compute the tensorflow graph\n",
    "\n",
    "sess = tf.Session()\n",
    "# Run the initialization\n",
    "sess.run(tf.global_variables_initializer())\n",
    "sess.run(tf.local_variables_initializer())\n",
    "\n",
    "# initialize iterator with train data\n",
    "sess.run(iterator.initializer, feed_dict={X:train_X, Y:train_y, batch_size:BATCH_SIZE})"
   ]
  },
  {
   "cell_type": "code",
   "execution_count": null,
   "metadata": {
    "_uuid": "46e86d664b34c4aa5afa041e6bc2e82d63fee66d",
    "scrolled": true
   },
   "outputs": [
    {
     "name": "stdout",
     "output_type": "stream",
     "text": [
      "Epoch 1 cost: 0.6943117867053382\n",
      "Epoch 1 f1: 0.11796599626541138\n",
      "Epoch 2 cost: 0.6931493036572992\n",
      "Epoch 2 f1: 0.11789525300264359\n"
     ]
    }
   ],
   "source": [
    "costs, f1 = [], []\n",
    "# Do the training loop\n",
    "for epoch in range(1, num_epochs+1):\n",
    "    batch_cost = 0.\n",
    "    num_batches = int(train_X.shape[0] / BATCH_SIZE) # number of minibatches of size minibatch_size in the train set\n",
    "    seed += seed\n",
    "    tf.set_random_seed(seed)\n",
    "\n",
    "    for _ in range(num_batches):\n",
    "        _ , batch_loss, _ = sess.run([optimizer, loss, f1_update])\n",
    "        batch_cost += batch_loss / num_batches\n",
    "        #batch_f1.append(f1_temp)\n",
    "        \n",
    "    #f1.append(len(batch_f1)/sum(1.0 / b for b in batch_f1 if b!=0))\n",
    "    cur_f1 = sess.run(F1)\n",
    "    f1.append(cur_f1)\n",
    "    costs.append(batch_cost)\n",
    "    print (f\"Epoch {epoch} cost: {batch_cost}\")\n",
    "    print (f\"Epoch {epoch} f1: {cur_f1}\")\n",
    "    saver.save(sess, f'./model-v1/model-epoch{epoch}.ckpt')\n",
    "    \n",
    "    info = {'f1':f1, 'costs':costs, 'epoch':epoch}\n",
    "    with open('./model-v1/model_info.pickle', 'wb') as handle:\n",
    "        pickle.dump(info, handle, protocol=pickle.HIGHEST_PROTOCOL)"
   ]
  },
  {
   "cell_type": "code",
   "execution_count": 25,
   "metadata": {
    "_uuid": "c6aa61b1b9c3884b6be18b8409899af75506d8ec"
   },
   "outputs": [
    {
     "data": {
      "image/png": "[encoded data removed]",
      "text/plain": [
       "<Figure size 432x288 with 1 Axes>"
      ]
     },
     "metadata": {},
     "output_type": "display_data"
    }
   ],
   "source": [
    "# plot the cost\n",
    "plt.plot(np.squeeze(costs))\n",
    "plt.ylabel('cost')\n",
    "plt.xlabel('iterations (per tens)')\n",
    "#plt.title(\"Learning rate =\" + str(learning_rate))\n",
    "plt.show()"
   ]
  },
  {
   "cell_type": "code",
   "execution_count": 26,
   "metadata": {},
   "outputs": [
    {
     "data": {
      "image/png": "[encoded data removed]",
      "text/plain": [
       "<Figure size 432x288 with 1 Axes>"
      ]
     },
     "metadata": {},
     "output_type": "display_data"
    }
   ],
   "source": [
    "# plot the cost\n",
    "plt.plot(np.squeeze(f1))\n",
    "plt.ylabel('cost')\n",
    "plt.xlabel('iterations (per tens)')\n",
    "#plt.title(\"Learning rate =\" + str(learning_rate))\n",
    "plt.show()"
   ]
  },
  {
   "cell_type": "code",
   "execution_count": null,
   "metadata": {
    "_uuid": "1204e3b70380fcbb804bc24681d5037a39ae8230"
   },
   "outputs": [],
   "source": [
    "sess.run(iterator.initializer, feed_dict={X: val_X, Y: val_y, batch_size: 64})\n",
    "val_cost = 0.\n",
    "num_batches = int(val_X.shape[0] / BATCH_SIZE) # number of minibatches of size minibatch_size in the train set\n",
    "tf.set_random_seed(2018)\n",
    "\n",
    "for _ in range(num_batches):\n",
    "    batch_loss, _ = sess.run([loss, f1_update])\n",
    "    val_cost += batch_loss / num_batches\n",
    "\n",
    "print (f\"Validation cost: {val_cost}\")\n",
    "print (f\"Validation f1: {sess.run(F1)}\")"
   ]
  }
 ],
 "metadata": {
  "kernelspec": {
   "display_name": "Python 3",
   "language": "python",
   "name": "python3"
  },
  "language_info": {
   "codemirror_mode": {
    "name": "ipython",
    "version": 3
   },
   "file_extension": ".py",
   "mimetype": "text/x-python",
   "name": "python",
   "nbconvert_exporter": "python",
   "pygments_lexer": "ipython3",
   "version": "3.6.5"
  }
 },
 "nbformat": 4,
 "nbformat_minor": 1
}
